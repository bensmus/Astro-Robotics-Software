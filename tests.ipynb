{
 "cells": [
  {
   "cell_type": "code",
   "execution_count": 16,
   "source": [
    "def getAngleRange(origin, point):\n",
    "    \"\"\"\n",
    "    Description:\n",
    "    Each point gets an angle range. \n",
    "    Closer points take up a larger range of angles,\n",
    "    further points take up a smaller range of angles.\n",
    "\n",
    "    Implementation:\n",
    "    s = distance from the middle of each pixel\n",
    "    a = angle between the two pixels can then be calculated using atan2\n",
    "    b = asin( (sqrt(2)/2) / s )\n",
    "    minangle = a - b\n",
    "    maxangle = a + b\n",
    "    \"\"\"\n",
    "    origin_mp = Point(point.x - 0.5, point.y - 0.5)\n",
    "    point_mp = Point(origin.x - 0.5, origin.y - 0.5)\n",
    "    s = dist(origin_mp.raw(), point_mp.raw())\n",
    "    print(f\"s = {s}\")\n",
    "    a = atan2(point_mp.y - origin_mp.y, point_mp.x - origin_mp.x)\n",
    "    print(f\"a = {a}\")\n",
    "\n",
    "    b = asin(sqrt(2)/2 / s)\n",
    "    print(f\"b = {b}\")\n",
    "\n",
    "    minangle = a - b\n",
    "    maxangle = a + b\n",
    "    return minangle, maxangle"
   ],
   "outputs": [],
   "metadata": {}
  },
  {
   "cell_type": "code",
   "execution_count": 1,
   "source": [
    "from math import asin, atan2, dist, sqrt"
   ],
   "outputs": [],
   "metadata": {}
  },
  {
   "cell_type": "code",
   "execution_count": 2,
   "source": [
    "class Point:\n",
    "    \"\"\"\n",
    "    Point with natural number coordinates,\n",
    "    either a point in the world, or on the screen (scaled up world).\n",
    "    \"\"\"\n",
    "    def __init__(self, x, y, worldpoint=True):\n",
    "        self.x = x\n",
    "        self.y = y\n",
    "        self.worldpoint = worldpoint  # boolean value\n",
    "\n",
    "    def raw(self):\n",
    "        return (self.x, self.y)\n",
    "\n",
    "    def scale(self, scalar):  \n",
    "        # scaling changes worldpoint->screenpoint or screenpoint->worldpoint\n",
    "        return Point(self.x * scalar, self.y * scalar, not self.worldpoint)\n",
    "\n",
    "    def __eq__(self, other):\n",
    "        if isinstance(other, Point):\n",
    "            return self.x == other.x and self.y == other.y and self.worldpoint == other.worldpoint\n",
    "        return False\n",
    "\n",
    "    def __hash__(self):\n",
    "        return hash(self.raw())\n",
    "\n",
    "    def __str__(self):\n",
    "        return f\"x = {self.x}, y = {self.y}\"\n",
    "    \n",
    "    def getScreenpoint(self):\n",
    "        if self.worldpoint:\n",
    "            return self.scale(SCREENSIZE / WORLDSIZE)\n",
    "        else:\n",
    "            raise RuntimeError(\"Point is already screenpoint\")\n",
    "    \n",
    "    def getWorldPt(self):\n",
    "        if not self.worldpoint:\n",
    "            return self.scale(WORLDSIZE / SCREENSIZE)\n",
    "        else:\n",
    "            raise RuntimeError(\"Point is already worldpoint\")\n",
    "    \n",
    "    def draw(self, color):\n",
    "        if self.worldpoint:\n",
    "            raise RuntimeError(\"Cannot draw worldpoint\")\n",
    "        else:\n",
    "            scalar = SCREENSIZE / WORLDSIZE\n",
    "            pygame.draw.rect(SCREEN, color, (round(self.x), round(self.y), scalar, scalar))"
   ],
   "outputs": [],
   "metadata": {}
  },
  {
   "cell_type": "code",
   "execution_count": null,
   "source": [],
   "outputs": [],
   "metadata": {}
  },
  {
   "cell_type": "code",
   "execution_count": 3,
   "source": [
    "WORLDSIZE = 100\n",
    "SCREENSIZE = 600  # should be a multiple of WORLDSIZE"
   ],
   "outputs": [],
   "metadata": {}
  },
  {
   "cell_type": "code",
   "execution_count": 6,
   "source": [
    "getAngleRange(Point(0, 0), Point(0, 4))"
   ],
   "outputs": [
    {
     "output_type": "execute_result",
     "data": {
      "text/plain": [
       "(-1.7485069276400083, -1.3930857259497849)"
      ]
     },
     "metadata": {},
     "execution_count": 6
    }
   ],
   "metadata": {}
  },
  {
   "cell_type": "code",
   "execution_count": 7,
   "source": [
    "getAngleRange(Point(0, 0), Point(0, 1))"
   ],
   "outputs": [
    {
     "output_type": "execute_result",
     "data": {
      "text/plain": [
       "(-2.356194490192345, -0.7853981633974482)"
      ]
     },
     "metadata": {},
     "execution_count": 7
    }
   ],
   "metadata": {}
  },
  {
   "cell_type": "code",
   "execution_count": 8,
   "source": [
    "getAngleRange(Point(0, 0), Point(0, 100))"
   ],
   "outputs": [
    {
     "output_type": "execute_result",
     "data": {
      "text/plain": [
       "(-1.577867453533653, -1.5637252000561401)"
      ]
     },
     "metadata": {},
     "execution_count": 8
    }
   ],
   "metadata": {}
  },
  {
   "cell_type": "code",
   "execution_count": 9,
   "source": [
    "180 / pi \n"
   ],
   "outputs": [
    {
     "output_type": "error",
     "ename": "NameError",
     "evalue": "name 'pi' is not defined",
     "traceback": [
      "\u001b[0;31m---------------------------------------------------------------------------\u001b[0m",
      "\u001b[0;31mNameError\u001b[0m                                 Traceback (most recent call last)",
      "\u001b[0;32m/var/folders/6b/x0yzqprs1ps6ww1wyftcwz_40000gn/T/ipykernel_40493/4226743944.py\u001b[0m in \u001b[0;36m<module>\u001b[0;34m\u001b[0m\n\u001b[0;32m----> 1\u001b[0;31m \u001b[0;36m180\u001b[0m \u001b[0;34m/\u001b[0m \u001b[0mpi\u001b[0m\u001b[0;34m\u001b[0m\u001b[0;34m\u001b[0m\u001b[0m\n\u001b[0m",
      "\u001b[0;31mNameError\u001b[0m: name 'pi' is not defined"
     ]
    }
   ],
   "metadata": {}
  },
  {
   "cell_type": "code",
   "execution_count": 10,
   "source": [
    "from math import pi"
   ],
   "outputs": [],
   "metadata": {}
  },
  {
   "cell_type": "code",
   "execution_count": 11,
   "source": [
    "180 / pi "
   ],
   "outputs": [
    {
     "output_type": "execute_result",
     "data": {
      "text/plain": [
       "57.29577951308232"
      ]
     },
     "metadata": {},
     "execution_count": 11
    }
   ],
   "metadata": {}
  },
  {
   "cell_type": "code",
   "execution_count": 12,
   "source": [
    "360 * pi / 180"
   ],
   "outputs": [
    {
     "output_type": "execute_result",
     "data": {
      "text/plain": [
       "6.283185307179586"
      ]
     },
     "metadata": {},
     "execution_count": 12
    }
   ],
   "metadata": {}
  },
  {
   "cell_type": "code",
   "execution_count": 13,
   "source": [
    "90 * pi / 180"
   ],
   "outputs": [
    {
     "output_type": "execute_result",
     "data": {
      "text/plain": [
       "1.5707963267948966"
      ]
     },
     "metadata": {},
     "execution_count": 13
    }
   ],
   "metadata": {}
  },
  {
   "cell_type": "code",
   "execution_count": 18,
   "source": [
    "getAngleRange(Point(0, 0), Point(5, 0))"
   ],
   "outputs": [
    {
     "output_type": "stream",
     "name": "stdout",
     "text": [
      "s = 5.0\n",
      "a = 3.141592653589793\n",
      "b = 0.1418970546041639\n"
     ]
    },
    {
     "output_type": "execute_result",
     "data": {
      "text/plain": [
       "(2.999695598985629, 3.283489708193957)"
      ]
     },
     "metadata": {},
     "execution_count": 18
    }
   ],
   "metadata": {}
  },
  {
   "cell_type": "code",
   "execution_count": 15,
   "source": [
    "atan2(0, 1)"
   ],
   "outputs": [
    {
     "output_type": "execute_result",
     "data": {
      "text/plain": [
       "0.0"
      ]
     },
     "metadata": {},
     "execution_count": 15
    }
   ],
   "metadata": {}
  },
  {
   "cell_type": "code",
   "execution_count": 19,
   "source": [
    "a=  []"
   ],
   "outputs": [],
   "metadata": {}
  },
  {
   "cell_type": "code",
   "execution_count": 20,
   "source": [
    "a.append((1, 2))"
   ],
   "outputs": [],
   "metadata": {}
  },
  {
   "cell_type": "code",
   "execution_count": 21,
   "source": [
    "a"
   ],
   "outputs": [
    {
     "output_type": "execute_result",
     "data": {
      "text/plain": [
       "[(1, 2)]"
      ]
     },
     "metadata": {},
     "execution_count": 21
    }
   ],
   "metadata": {}
  },
  {
   "cell_type": "code",
   "execution_count": 22,
   "source": [
    "def foo():\n",
    "    return 1, 2\n",
    "    "
   ],
   "outputs": [],
   "metadata": {}
  },
  {
   "cell_type": "code",
   "execution_count": 23,
   "source": [
    "a.append(foo())"
   ],
   "outputs": [],
   "metadata": {}
  },
  {
   "cell_type": "code",
   "execution_count": 24,
   "source": [
    "a"
   ],
   "outputs": [
    {
     "output_type": "execute_result",
     "data": {
      "text/plain": [
       "[(1, 2), (1, 2)]"
      ]
     },
     "metadata": {},
     "execution_count": 24
    }
   ],
   "metadata": {}
  },
  {
   "cell_type": "code",
   "execution_count": 27,
   "source": [
    "import numpy"
   ],
   "outputs": [],
   "metadata": {}
  },
  {
   "cell_type": "code",
   "execution_count": 44,
   "source": [
    "a = numpy.array([1, 2])"
   ],
   "outputs": [],
   "metadata": {}
  },
  {
   "cell_type": "code",
   "execution_count": 35,
   "source": [
    "b = numpy.array([3, 4])"
   ],
   "outputs": [],
   "metadata": {}
  },
  {
   "cell_type": "code",
   "execution_count": 36,
   "source": [
    "a + b"
   ],
   "outputs": [
    {
     "output_type": "execute_result",
     "data": {
      "text/plain": [
       "array([4, 6])"
      ]
     },
     "metadata": {},
     "execution_count": 36
    }
   ],
   "metadata": {}
  },
  {
   "cell_type": "code",
   "execution_count": 40,
   "source": [
    "sum(a, b)"
   ],
   "outputs": [
    {
     "output_type": "execute_result",
     "data": {
      "text/plain": [
       "array([6, 7])"
      ]
     },
     "metadata": {},
     "execution_count": 40
    }
   ],
   "metadata": {}
  },
  {
   "cell_type": "code",
   "execution_count": 43,
   "source": [
    "a"
   ],
   "outputs": [
    {
     "output_type": "execute_result",
     "data": {
      "text/plain": [
       "array([1, 2])"
      ]
     },
     "metadata": {},
     "execution_count": 43
    }
   ],
   "metadata": {}
  },
  {
   "cell_type": "code",
   "execution_count": 45,
   "source": [
    "b"
   ],
   "outputs": [
    {
     "output_type": "execute_result",
     "data": {
      "text/plain": [
       "array([3, 4])"
      ]
     },
     "metadata": {},
     "execution_count": 45
    }
   ],
   "metadata": {}
  }
 ],
 "metadata": {
  "orig_nbformat": 4,
  "language_info": {
   "name": "python",
   "version": "3.9.7",
   "mimetype": "text/x-python",
   "codemirror_mode": {
    "name": "ipython",
    "version": 3
   },
   "pygments_lexer": "ipython3",
   "nbconvert_exporter": "python",
   "file_extension": ".py"
  },
  "kernelspec": {
   "name": "python3",
   "display_name": "Python 3.9.7 64-bit ('jupyter': conda)"
  },
  "interpreter": {
   "hash": "5973d7050e11b75d162028c3362f7a671b69e69dbac559d50d20a3ac5515e3f0"
  }
 },
 "nbformat": 4,
 "nbformat_minor": 2
}